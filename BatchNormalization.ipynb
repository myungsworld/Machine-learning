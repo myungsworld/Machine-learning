{
  "nbformat": 4,
  "nbformat_minor": 0,
  "metadata": {
    "colab": {
      "name": "BatchNormalization.ipynb",
      "provenance": [],
      "authorship_tag": "ABX9TyP+cweB0t0EJpbb/1SnXOoS",
      "include_colab_link": true
    },
    "kernelspec": {
      "name": "python3",
      "display_name": "Python 3"
    }
  },
  "cells": [
    {
      "cell_type": "markdown",
      "metadata": {
        "id": "view-in-github",
        "colab_type": "text"
      },
      "source": [
        "<a href=\"https://colab.research.google.com/github/myungsworld/Machine-learning/blob/master/BatchNormalization.ipynb\" target=\"_parent\"><img src=\"https://colab.research.google.com/assets/colab-badge.svg\" alt=\"Open In Colab\"/></a>"
      ]
    },
    {
      "cell_type": "markdown",
      "metadata": {
        "id": "5jMpogGB_vEd",
        "colab_type": "text"
      },
      "source": [
        "## 학습이 잘 되는 모델\n",
        "- 사용할 레이어\n",
        "  - tf.keras.layers.BatchNormalization()\n",
        "  - tf.keras.layers.Activation('swish')\n",
        "\n",
        "- 데이터\n",
        "  - 보스턴 집값 예측: 'https://raw.githubusercontent.com/blackdew/tensorflow1/master/csv/boston.csv'\n",
        "  - 아이리스 품종 분류: 'https://raw.githubusercontent.com/blackdew/tensorflow1/master/csv/iris.csv'\n"
      ]
    },
    {
      "cell_type": "code",
      "metadata": {
        "id": "HVVh6uW_AYBC",
        "colab_type": "code",
        "colab": {}
      },
      "source": [
        "import tensorflow as tf\n",
        "import pandas as pd"
      ],
      "execution_count": 1,
      "outputs": []
    },
    {
      "cell_type": "code",
      "metadata": {
        "id": "xWjjT1NYAuHQ",
        "colab_type": "code",
        "colab": {
          "base_uri": "https://localhost:8080/",
          "height": 224
        },
        "outputId": "4b396f39-f8b3-4f4b-a60a-e8f87320813b"
      },
      "source": [
        "파일경로 = 'https://raw.githubusercontent.com/blackdew/tensorflow1/master/csv/boston.csv'\n",
        "보스턴 = pd.read_csv(파일경로)\n",
        "print(보스턴.head())\n",
        "print(보스턴.columns)"
      ],
      "execution_count": 4,
      "outputs": [
        {
          "output_type": "stream",
          "text": [
            "      crim    zn  indus  chas    nox  ...  tax  ptratio       b  lstat  medv\n",
            "0  0.00632  18.0   2.31     0  0.538  ...  296     15.3  396.90   4.98  24.0\n",
            "1  0.02731   0.0   7.07     0  0.469  ...  242     17.8  396.90   9.14  21.6\n",
            "2  0.02729   0.0   7.07     0  0.469  ...  242     17.8  392.83   4.03  34.7\n",
            "3  0.03237   0.0   2.18     0  0.458  ...  222     18.7  394.63   2.94  33.4\n",
            "4  0.06905   0.0   2.18     0  0.458  ...  222     18.7  396.90   5.33  36.2\n",
            "\n",
            "[5 rows x 14 columns]\n",
            "Index(['crim', 'zn', 'indus', 'chas', 'nox', 'rm', 'age', 'dis', 'rad', 'tax',\n",
            "       'ptratio', 'b', 'lstat', 'medv'],\n",
            "      dtype='object')\n"
          ],
          "name": "stdout"
        }
      ]
    },
    {
      "cell_type": "code",
      "metadata": {
        "id": "HO_eXk8GA5wU",
        "colab_type": "code",
        "colab": {
          "base_uri": "https://localhost:8080/",
          "height": 34
        },
        "outputId": "59fa426a-8566-44b7-a4a7-5822810f0522"
      },
      "source": [
        "독립 = 보스턴[['crim', 'zn', 'indus', 'chas', 'nox', 'rm', 'age', 'dis', 'rad', 'tax',\n",
        "       'ptratio', 'b', 'lstat']]\n",
        "종속 = 보스턴[['medv']]\n",
        "print(독립.shape,종속.shape)"
      ],
      "execution_count": 5,
      "outputs": [
        {
          "output_type": "stream",
          "text": [
            "(506, 13) (506, 1)\n"
          ],
          "name": "stdout"
        }
      ]
    },
    {
      "cell_type": "code",
      "metadata": {
        "id": "z0QO8Q7rBVsR",
        "colab_type": "code",
        "colab": {}
      },
      "source": [
        "X = tf.keras.layers.Input(shape=[13])\n",
        "H = tf.keras.layers.Dense(8, activation='swish')(X)\n",
        "H = tf.keras.layers.Dense(8, activation='swish')(H)\n",
        "H = tf.keras.layers.Dense(8, activation='swish')(H)\n",
        "Y = tf.keras.layers.Dense(1)(H)\n",
        "model = tf.keras.models.Model(X,Y)\n",
        "model.compile(loss='mse')"
      ],
      "execution_count": 6,
      "outputs": []
    },
    {
      "cell_type": "code",
      "metadata": {
        "id": "NYqa5XlcCGEY",
        "colab_type": "code",
        "colab": {}
      },
      "source": [
        "X = tf.keras.layers.Input(shape=[13])\n",
        "H = tf.keras.layers.Dense(8)(X)\n",
        "H = tf.keras.layers.BatchNormalization()(H)\n",
        "H = tf.keras.layers.Activation('swish')(H)\n",
        "\n",
        "H = tf.keras.layers.Dense(8)(H)\n",
        "H = tf.keras.layers.BatchNormalization()(H)\n",
        "H = tf.keras.layers.Activation('swish')(H)\n",
        "\n",
        "H = tf.keras.layers.Dense(8)(H)\n",
        "H = tf.keras.layers.BatchNormalization()(H)\n",
        "H = tf.keras.layers.Activation('swish')(H)\n",
        "\n",
        "Y = tf.keras.layers.Dense(1)(H)\n",
        "model = tf.keras.models.Model(X,Y)\n",
        "model.compile(loss='mse')"
      ],
      "execution_count": 7,
      "outputs": []
    },
    {
      "cell_type": "code",
      "metadata": {
        "id": "0PoqkPELCnnY",
        "colab_type": "code",
        "colab": {
          "base_uri": "https://localhost:8080/",
          "height": 1000
        },
        "outputId": "f368f1ca-e858-4619-a36e-39e2dc2cfc50"
      },
      "source": [
        "model.fit(독립,종속, epochs=100)"
      ],
      "execution_count": 8,
      "outputs": [
        {
          "output_type": "stream",
          "text": [
            "Epoch 1/100\n",
            "16/16 [==============================] - 0s 2ms/step - loss: 579.9265\n",
            "Epoch 2/100\n",
            "16/16 [==============================] - 0s 2ms/step - loss: 571.7449\n",
            "Epoch 3/100\n",
            "16/16 [==============================] - 0s 1ms/step - loss: 565.1282\n",
            "Epoch 4/100\n",
            "16/16 [==============================] - 0s 2ms/step - loss: 559.7816\n",
            "Epoch 5/100\n",
            "16/16 [==============================] - 0s 1ms/step - loss: 553.7543\n",
            "Epoch 6/100\n",
            "16/16 [==============================] - 0s 1ms/step - loss: 548.3163\n",
            "Epoch 7/100\n",
            "16/16 [==============================] - 0s 1ms/step - loss: 542.4401\n",
            "Epoch 8/100\n",
            "16/16 [==============================] - 0s 1ms/step - loss: 537.8669\n",
            "Epoch 9/100\n",
            "16/16 [==============================] - 0s 2ms/step - loss: 532.8635\n",
            "Epoch 10/100\n",
            "16/16 [==============================] - 0s 1ms/step - loss: 527.2065\n",
            "Epoch 11/100\n",
            "16/16 [==============================] - 0s 1ms/step - loss: 521.0192\n",
            "Epoch 12/100\n",
            "16/16 [==============================] - 0s 1ms/step - loss: 516.3512\n",
            "Epoch 13/100\n",
            "16/16 [==============================] - 0s 2ms/step - loss: 510.2775\n",
            "Epoch 14/100\n",
            "16/16 [==============================] - 0s 2ms/step - loss: 504.6362\n",
            "Epoch 15/100\n",
            "16/16 [==============================] - 0s 2ms/step - loss: 498.7191\n",
            "Epoch 16/100\n",
            "16/16 [==============================] - 0s 1ms/step - loss: 491.5322\n",
            "Epoch 17/100\n",
            "16/16 [==============================] - 0s 1ms/step - loss: 485.7833\n",
            "Epoch 18/100\n",
            "16/16 [==============================] - 0s 2ms/step - loss: 478.8242\n",
            "Epoch 19/100\n",
            "16/16 [==============================] - 0s 2ms/step - loss: 471.7413\n",
            "Epoch 20/100\n",
            "16/16 [==============================] - 0s 2ms/step - loss: 466.1719\n",
            "Epoch 21/100\n",
            "16/16 [==============================] - 0s 1ms/step - loss: 458.2290\n",
            "Epoch 22/100\n",
            "16/16 [==============================] - 0s 2ms/step - loss: 449.5706\n",
            "Epoch 23/100\n",
            "16/16 [==============================] - 0s 1ms/step - loss: 442.6483\n",
            "Epoch 24/100\n",
            "16/16 [==============================] - 0s 1ms/step - loss: 434.6230\n",
            "Epoch 25/100\n",
            "16/16 [==============================] - 0s 1ms/step - loss: 429.4402\n",
            "Epoch 26/100\n",
            "16/16 [==============================] - 0s 1ms/step - loss: 419.7229\n",
            "Epoch 27/100\n",
            "16/16 [==============================] - 0s 1ms/step - loss: 412.4364\n",
            "Epoch 28/100\n",
            "16/16 [==============================] - 0s 1ms/step - loss: 407.5233\n",
            "Epoch 29/100\n",
            "16/16 [==============================] - 0s 2ms/step - loss: 396.4907\n",
            "Epoch 30/100\n",
            "16/16 [==============================] - 0s 1ms/step - loss: 387.5979\n",
            "Epoch 31/100\n",
            "16/16 [==============================] - 0s 1ms/step - loss: 381.4803\n",
            "Epoch 32/100\n",
            "16/16 [==============================] - 0s 1ms/step - loss: 374.5393\n",
            "Epoch 33/100\n",
            "16/16 [==============================] - 0s 1ms/step - loss: 367.7209\n",
            "Epoch 34/100\n",
            "16/16 [==============================] - 0s 1ms/step - loss: 356.3299\n",
            "Epoch 35/100\n",
            "16/16 [==============================] - 0s 1ms/step - loss: 349.8135\n",
            "Epoch 36/100\n",
            "16/16 [==============================] - 0s 1ms/step - loss: 343.5610\n",
            "Epoch 37/100\n",
            "16/16 [==============================] - 0s 1ms/step - loss: 332.7404\n",
            "Epoch 38/100\n",
            "16/16 [==============================] - 0s 1ms/step - loss: 327.3761\n",
            "Epoch 39/100\n",
            "16/16 [==============================] - 0s 1ms/step - loss: 319.0015\n",
            "Epoch 40/100\n",
            "16/16 [==============================] - 0s 1ms/step - loss: 309.6106\n",
            "Epoch 41/100\n",
            "16/16 [==============================] - 0s 1ms/step - loss: 301.7978\n",
            "Epoch 42/100\n",
            "16/16 [==============================] - 0s 1ms/step - loss: 292.8358\n",
            "Epoch 43/100\n",
            "16/16 [==============================] - 0s 1ms/step - loss: 284.2763\n",
            "Epoch 44/100\n",
            "16/16 [==============================] - 0s 1ms/step - loss: 277.2983\n",
            "Epoch 45/100\n",
            "16/16 [==============================] - 0s 1ms/step - loss: 269.4137\n",
            "Epoch 46/100\n",
            "16/16 [==============================] - 0s 1ms/step - loss: 262.5410\n",
            "Epoch 47/100\n",
            "16/16 [==============================] - 0s 1ms/step - loss: 253.8558\n",
            "Epoch 48/100\n",
            "16/16 [==============================] - 0s 1ms/step - loss: 245.0943\n",
            "Epoch 49/100\n",
            "16/16 [==============================] - 0s 2ms/step - loss: 240.1968\n",
            "Epoch 50/100\n",
            "16/16 [==============================] - 0s 1ms/step - loss: 229.3551\n",
            "Epoch 51/100\n",
            "16/16 [==============================] - 0s 2ms/step - loss: 222.0786\n",
            "Epoch 52/100\n",
            "16/16 [==============================] - 0s 2ms/step - loss: 215.3600\n",
            "Epoch 53/100\n",
            "16/16 [==============================] - 0s 1ms/step - loss: 209.2643\n",
            "Epoch 54/100\n",
            "16/16 [==============================] - 0s 2ms/step - loss: 198.3072\n",
            "Epoch 55/100\n",
            "16/16 [==============================] - 0s 1ms/step - loss: 192.1626\n",
            "Epoch 56/100\n",
            "16/16 [==============================] - 0s 1ms/step - loss: 182.1658\n",
            "Epoch 57/100\n",
            "16/16 [==============================] - 0s 2ms/step - loss: 177.7914\n",
            "Epoch 58/100\n",
            "16/16 [==============================] - 0s 2ms/step - loss: 170.1264\n",
            "Epoch 59/100\n",
            "16/16 [==============================] - 0s 2ms/step - loss: 161.1552\n",
            "Epoch 60/100\n",
            "16/16 [==============================] - 0s 1ms/step - loss: 157.1474\n",
            "Epoch 61/100\n",
            "16/16 [==============================] - 0s 1ms/step - loss: 143.8641\n",
            "Epoch 62/100\n",
            "16/16 [==============================] - 0s 1ms/step - loss: 139.7972\n",
            "Epoch 63/100\n",
            "16/16 [==============================] - 0s 1ms/step - loss: 132.6581\n",
            "Epoch 64/100\n",
            "16/16 [==============================] - 0s 1ms/step - loss: 124.5377\n",
            "Epoch 65/100\n",
            "16/16 [==============================] - 0s 1ms/step - loss: 118.0863\n",
            "Epoch 66/100\n",
            "16/16 [==============================] - 0s 1ms/step - loss: 111.0445\n",
            "Epoch 67/100\n",
            "16/16 [==============================] - 0s 2ms/step - loss: 108.3175\n",
            "Epoch 68/100\n",
            "16/16 [==============================] - 0s 1ms/step - loss: 100.7737\n",
            "Epoch 69/100\n",
            "16/16 [==============================] - 0s 2ms/step - loss: 97.1994\n",
            "Epoch 70/100\n",
            "16/16 [==============================] - 0s 1ms/step - loss: 89.5038\n",
            "Epoch 71/100\n",
            "16/16 [==============================] - 0s 1ms/step - loss: 83.1617\n",
            "Epoch 72/100\n",
            "16/16 [==============================] - 0s 2ms/step - loss: 76.7277\n",
            "Epoch 73/100\n",
            "16/16 [==============================] - 0s 1ms/step - loss: 76.2177\n",
            "Epoch 74/100\n",
            "16/16 [==============================] - 0s 1ms/step - loss: 67.4805\n",
            "Epoch 75/100\n",
            "16/16 [==============================] - 0s 1ms/step - loss: 61.6647\n",
            "Epoch 76/100\n",
            "16/16 [==============================] - 0s 2ms/step - loss: 58.6879\n",
            "Epoch 77/100\n",
            "16/16 [==============================] - 0s 1ms/step - loss: 55.5569\n",
            "Epoch 78/100\n",
            "16/16 [==============================] - 0s 2ms/step - loss: 51.5141\n",
            "Epoch 79/100\n",
            "16/16 [==============================] - 0s 1ms/step - loss: 48.9717\n",
            "Epoch 80/100\n",
            "16/16 [==============================] - 0s 1ms/step - loss: 45.8092\n",
            "Epoch 81/100\n",
            "16/16 [==============================] - 0s 1ms/step - loss: 44.3997\n",
            "Epoch 82/100\n",
            "16/16 [==============================] - 0s 1ms/step - loss: 43.7571\n",
            "Epoch 83/100\n",
            "16/16 [==============================] - 0s 1ms/step - loss: 37.6617\n",
            "Epoch 84/100\n",
            "16/16 [==============================] - 0s 2ms/step - loss: 36.5074\n",
            "Epoch 85/100\n",
            "16/16 [==============================] - 0s 1ms/step - loss: 34.4053\n",
            "Epoch 86/100\n",
            "16/16 [==============================] - 0s 1ms/step - loss: 32.4079\n",
            "Epoch 87/100\n",
            "16/16 [==============================] - 0s 1ms/step - loss: 30.7376\n",
            "Epoch 88/100\n",
            "16/16 [==============================] - 0s 2ms/step - loss: 30.7933\n",
            "Epoch 89/100\n",
            "16/16 [==============================] - 0s 2ms/step - loss: 31.9205\n",
            "Epoch 90/100\n",
            "16/16 [==============================] - 0s 1ms/step - loss: 30.0271\n",
            "Epoch 91/100\n",
            "16/16 [==============================] - 0s 1ms/step - loss: 25.2804\n",
            "Epoch 92/100\n",
            "16/16 [==============================] - 0s 1ms/step - loss: 26.5225\n",
            "Epoch 93/100\n",
            "16/16 [==============================] - 0s 1ms/step - loss: 27.1911\n",
            "Epoch 94/100\n",
            "16/16 [==============================] - 0s 1ms/step - loss: 26.3185\n",
            "Epoch 95/100\n",
            "16/16 [==============================] - 0s 1ms/step - loss: 26.5550\n",
            "Epoch 96/100\n",
            "16/16 [==============================] - 0s 2ms/step - loss: 24.8357\n",
            "Epoch 97/100\n",
            "16/16 [==============================] - 0s 2ms/step - loss: 26.4328\n",
            "Epoch 98/100\n",
            "16/16 [==============================] - 0s 2ms/step - loss: 24.8427\n",
            "Epoch 99/100\n",
            "16/16 [==============================] - 0s 1ms/step - loss: 25.1600\n",
            "Epoch 100/100\n",
            "16/16 [==============================] - 0s 1ms/step - loss: 24.9879\n"
          ],
          "name": "stdout"
        },
        {
          "output_type": "execute_result",
          "data": {
            "text/plain": [
              "<tensorflow.python.keras.callbacks.History at 0x7ff9e58420f0>"
            ]
          },
          "metadata": {
            "tags": []
          },
          "execution_count": 8
        }
      ]
    },
    {
      "cell_type": "code",
      "metadata": {
        "id": "JSt7087hCrN-",
        "colab_type": "code",
        "colab": {}
      },
      "source": [
        ""
      ],
      "execution_count": null,
      "outputs": []
    }
  ]
}