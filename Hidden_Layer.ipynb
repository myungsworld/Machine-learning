{
  "nbformat": 4,
  "nbformat_minor": 0,
  "metadata": {
    "colab": {
      "name": "Hidden_Layer.ipynb",
      "provenance": [],
      "authorship_tag": "ABX9TyNKZjsgAVYsnkKjMEocDIfs",
      "include_colab_link": true
    },
    "kernelspec": {
      "name": "python3",
      "display_name": "Python 3"
    }
  },
  "cells": [
    {
      "cell_type": "markdown",
      "metadata": {
        "id": "view-in-github",
        "colab_type": "text"
      },
      "source": [
        "<a href=\"https://colab.research.google.com/github/myungsworld/Machine-learning/blob/master/Hidden_Layer.ipynb\" target=\"_parent\"><img src=\"https://colab.research.google.com/assets/colab-badge.svg\" alt=\"Open In Colab\"/></a>"
      ]
    },
    {
      "cell_type": "markdown",
      "metadata": {
        "id": "hUjJCk4Pt0kq",
        "colab_type": "text"
      },
      "source": [
        "보스턴 집값 예측"
      ]
    },
    {
      "cell_type": "code",
      "metadata": {
        "id": "DmgN0hUNpPNR",
        "colab_type": "code",
        "colab": {}
      },
      "source": [
        "import pandas as pd\n",
        "import tensorflow as tf"
      ],
      "execution_count": 1,
      "outputs": []
    },
    {
      "cell_type": "code",
      "metadata": {
        "id": "4j4kff13piyn",
        "colab_type": "code",
        "colab": {}
      },
      "source": [
        "파일경로 = 'https://raw.githubusercontent.com/blackdew/tensorflow1/master/csv/boston.csv'\n",
        "보스턴 = pd.read_csv(파일경로)"
      ],
      "execution_count": 2,
      "outputs": []
    },
    {
      "cell_type": "code",
      "metadata": {
        "id": "6WX-zF2GpnCC",
        "colab_type": "code",
        "colab": {
          "base_uri": "https://localhost:8080/",
          "height": 88
        },
        "outputId": "63472a90-3c6d-471d-95c5-7df385a3e2a9"
      },
      "source": [
        "print(보스턴.columns)"
      ],
      "execution_count": 4,
      "outputs": [
        {
          "output_type": "stream",
          "text": [
            "Index(['crim', 'zn', 'indus', 'chas', 'nox', 'rm', 'age', 'dis', 'rad', 'tax',\n",
            "       'ptratio', 'b', 'lstat', 'medv'],\n",
            "      dtype='object')\n"
          ],
          "name": "stdout"
        }
      ]
    },
    {
      "cell_type": "code",
      "metadata": {
        "id": "KvjjsFUxpsO8",
        "colab_type": "code",
        "colab": {
          "base_uri": "https://localhost:8080/",
          "height": 34
        },
        "outputId": "10fd39f7-f52a-42fc-d072-552156b10a11"
      },
      "source": [
        "독립 = 보스턴[['crim', 'zn', 'indus', 'chas',\n",
        "            'nox', 'rm', 'age', 'dis', 'rad', 'tax',\n",
        "            'ptratio', 'b', 'lstat']]\n",
        "종속 = 보스턴[['medv']]\n",
        "print(독립.shape,종속.shape)"
      ],
      "execution_count": 6,
      "outputs": [
        {
          "output_type": "stream",
          "text": [
            "(506, 13) (506, 1)\n"
          ],
          "name": "stdout"
        }
      ]
    },
    {
      "cell_type": "code",
      "metadata": {
        "id": "KOMtJhx8rPoN",
        "colab_type": "code",
        "colab": {
          "base_uri": "https://localhost:8080/",
          "height": 255
        },
        "outputId": "05164762-78f0-4dce-e4c4-8aa5b4dde79f"
      },
      "source": [
        "model.summary()"
      ],
      "execution_count": 11,
      "outputs": [
        {
          "output_type": "stream",
          "text": [
            "Model: \"functional_3\"\n",
            "_________________________________________________________________\n",
            "Layer (type)                 Output Shape              Param #   \n",
            "=================================================================\n",
            "input_2 (InputLayer)         [(None, 13)]              0         \n",
            "_________________________________________________________________\n",
            "dense_1 (Dense)              (None, 10)                140       \n",
            "_________________________________________________________________\n",
            "dense_2 (Dense)              (None, 1)                 11        \n",
            "=================================================================\n",
            "Total params: 151\n",
            "Trainable params: 151\n",
            "Non-trainable params: 0\n",
            "_________________________________________________________________\n"
          ],
          "name": "stdout"
        }
      ]
    },
    {
      "cell_type": "code",
      "metadata": {
        "id": "anWQN80_qGx1",
        "colab_type": "code",
        "colab": {}
      },
      "source": [
        "X = tf.keras.layers.Input(shape=[13])\n",
        "H = tf.keras.layers.Dense(10, activation='swish')(X)\n",
        "Y = tf.keras.layers.Dense(1)(H)\n",
        "model = tf.keras.models.Model(X,Y)\n",
        "model.compile(loss = 'mse')"
      ],
      "execution_count": 8,
      "outputs": []
    },
    {
      "cell_type": "code",
      "metadata": {
        "id": "_9oiYN_Mqp3Q",
        "colab_type": "code",
        "colab": {
          "base_uri": "https://localhost:8080/",
          "height": 374
        },
        "outputId": "eeba6b19-0eb4-44de-c686-a5499cb51967"
      },
      "source": [
        "model.fit(독립,종속, epochs=100, verbose=0)\n",
        "model.fit(독립,종속, epochs=10)"
      ],
      "execution_count": 20,
      "outputs": [
        {
          "output_type": "stream",
          "text": [
            "Epoch 1/10\n",
            "16/16 [==============================] - 0s 1ms/step - loss: 13.4400\n",
            "Epoch 2/10\n",
            "16/16 [==============================] - 0s 1ms/step - loss: 13.5695\n",
            "Epoch 3/10\n",
            "16/16 [==============================] - 0s 1ms/step - loss: 13.6063\n",
            "Epoch 4/10\n",
            "16/16 [==============================] - 0s 1ms/step - loss: 13.2948\n",
            "Epoch 5/10\n",
            "16/16 [==============================] - 0s 1ms/step - loss: 13.7703\n",
            "Epoch 6/10\n",
            "16/16 [==============================] - 0s 1ms/step - loss: 14.2131\n",
            "Epoch 7/10\n",
            "16/16 [==============================] - 0s 1ms/step - loss: 13.5169\n",
            "Epoch 8/10\n",
            "16/16 [==============================] - 0s 1ms/step - loss: 13.1414\n",
            "Epoch 9/10\n",
            "16/16 [==============================] - 0s 1ms/step - loss: 13.8347\n",
            "Epoch 10/10\n",
            "16/16 [==============================] - 0s 1ms/step - loss: 13.0784\n"
          ],
          "name": "stdout"
        },
        {
          "output_type": "execute_result",
          "data": {
            "text/plain": [
              "<tensorflow.python.keras.callbacks.History at 0x7f4197acb470>"
            ]
          },
          "metadata": {
            "tags": []
          },
          "execution_count": 20
        }
      ]
    },
    {
      "cell_type": "code",
      "metadata": {
        "id": "i7SvGu-Fq_Hd",
        "colab_type": "code",
        "colab": {
          "base_uri": "https://localhost:8080/",
          "height": 204
        },
        "outputId": "e12e6197-d4c0-457f-e866-2ae6b7d417cc"
      },
      "source": [
        "print(model.predict(독립[:5]))\n",
        "print(종속[:5])"
      ],
      "execution_count": 21,
      "outputs": [
        {
          "output_type": "stream",
          "text": [
            "[[32.624832]\n",
            " [22.087421]\n",
            " [33.246708]\n",
            " [34.068127]\n",
            " [31.286509]]\n",
            "   medv\n",
            "0  24.0\n",
            "1  21.6\n",
            "2  34.7\n",
            "3  33.4\n",
            "4  36.2\n"
          ],
          "name": "stdout"
        }
      ]
    },
    {
      "cell_type": "markdown",
      "metadata": {
        "id": "2o4FV7fKtsTU",
        "colab_type": "text"
      },
      "source": [
        "아이리스 품종 분류"
      ]
    },
    {
      "cell_type": "code",
      "metadata": {
        "id": "pF5HKV90ruJW",
        "colab_type": "code",
        "colab": {
          "base_uri": "https://localhost:8080/",
          "height": 88
        },
        "outputId": "b0ad811d-6006-4eae-9efb-2040aa46dd39"
      },
      "source": [
        "파일경로 = 'https://raw.githubusercontent.com/blackdew/tensorflow1/master/csv/iris.csv'\n",
        "아이리스 = pd.read_csv(파일경로)\n",
        "\n",
        "#원핫인코딩\n",
        "아이리스 = pd.get_dummies(아이리스)\n",
        "아이리스.columns\n"
      ],
      "execution_count": 24,
      "outputs": [
        {
          "output_type": "execute_result",
          "data": {
            "text/plain": [
              "Index(['꽃잎길이', '꽃잎폭', '꽃받침길이', '꽃받침폭', '품종_setosa', '품종_versicolor',\n",
              "       '품종_virginica'],\n",
              "      dtype='object')"
            ]
          },
          "metadata": {
            "tags": []
          },
          "execution_count": 24
        }
      ]
    },
    {
      "cell_type": "code",
      "metadata": {
        "id": "P83fT1-Ltu5P",
        "colab_type": "code",
        "colab": {
          "base_uri": "https://localhost:8080/",
          "height": 34
        },
        "outputId": "d8f3485c-e23a-4740-ee59-b2206bb3a3c8"
      },
      "source": [
        "독립 = 아이리스[['꽃잎길이', '꽃잎폭', '꽃받침길이', '꽃받침폭']]\n",
        "종속 = 아이리스[['품종_setosa', '품종_versicolor','품종_virginica']]\n",
        "print(독립.shape,종속.shape)"
      ],
      "execution_count": 25,
      "outputs": [
        {
          "output_type": "stream",
          "text": [
            "(150, 4) (150, 3)\n"
          ],
          "name": "stdout"
        }
      ]
    },
    {
      "cell_type": "code",
      "metadata": {
        "id": "WTaXwsk5uy4_",
        "colab_type": "code",
        "colab": {}
      },
      "source": [
        "X = tf.keras.layers.Input(shape=[4])\n",
        "H = tf.keras.layers.Dense(8, activation='swish')(X)\n",
        "H = tf.keras.layers.Dense(8, activation='swish')(H)\n",
        "H = tf.keras.layers.Dense(8, activation='swish')(H)\n",
        "Y = tf.keras.layers.Dense(3, activation='softmax')(H)\n",
        "model = tf.keras.models.Model(X,Y)\n",
        "model.compile(loss ='categorical_crossentropy', metrics='accuracy')"
      ],
      "execution_count": 32,
      "outputs": []
    },
    {
      "cell_type": "code",
      "metadata": {
        "id": "NaqM0mnTvDVD",
        "colab_type": "code",
        "colab": {}
      },
      "source": [
        "model.fit(독립,종속, epochs=100)"
      ],
      "execution_count": null,
      "outputs": []
    },
    {
      "cell_type": "code",
      "metadata": {
        "id": "Hpu3YfqZvGPQ",
        "colab_type": "code",
        "colab": {
          "base_uri": "https://localhost:8080/",
          "height": 204
        },
        "outputId": "84e58239-3986-4a7f-dc8d-d1376ce7ffe4"
      },
      "source": [
        "print(model.predict(독립[0:5]))\n",
        "print(종속[0:5])"
      ],
      "execution_count": 40,
      "outputs": [
        {
          "output_type": "stream",
          "text": [
            "[[9.9935037e-01 6.4967998e-04 7.3347977e-09]\n",
            " [9.9876970e-01 1.2302480e-03 1.5237203e-08]\n",
            " [9.9880588e-01 1.1941611e-03 3.1131119e-08]\n",
            " [9.9845457e-01 1.5454112e-03 3.9634969e-08]\n",
            " [9.9931753e-01 6.8245508e-04 1.1311724e-08]]\n",
            "   품종_setosa  품종_versicolor  품종_virginica\n",
            "0          1              0             0\n",
            "1          1              0             0\n",
            "2          1              0             0\n",
            "3          1              0             0\n",
            "4          1              0             0\n"
          ],
          "name": "stdout"
        }
      ]
    },
    {
      "cell_type": "code",
      "metadata": {
        "id": "JacNPnFowyJI",
        "colab_type": "code",
        "colab": {
          "base_uri": "https://localhost:8080/",
          "height": 204
        },
        "outputId": "6e0fee82-b6b8-493c-ef8a-5fdbde45be71"
      },
      "source": [
        "print(model.predict(독립[-5:]))\n",
        "print(종속[-5:])"
      ],
      "execution_count": 41,
      "outputs": [
        {
          "output_type": "stream",
          "text": [
            "[[3.0894441e-08 6.7240588e-02 9.3275934e-01]\n",
            " [6.2543577e-08 7.2872698e-02 9.2712718e-01]\n",
            " [2.5968262e-07 1.8682927e-01 8.1317049e-01]\n",
            " [4.0025338e-08 4.7365118e-02 9.5263481e-01]\n",
            " [8.4210541e-07 2.1481511e-01 7.8518403e-01]]\n",
            "     품종_setosa  품종_versicolor  품종_virginica\n",
            "145          0              0             1\n",
            "146          0              0             1\n",
            "147          0              0             1\n",
            "148          0              0             1\n",
            "149          0              0             1\n"
          ],
          "name": "stdout"
        }
      ]
    },
    {
      "cell_type": "code",
      "metadata": {
        "id": "pvSAqaivxWpI",
        "colab_type": "code",
        "colab": {}
      },
      "source": [
        ""
      ],
      "execution_count": null,
      "outputs": []
    }
  ]
}