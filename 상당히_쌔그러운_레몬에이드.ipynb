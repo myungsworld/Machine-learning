{
  "nbformat": 4,
  "nbformat_minor": 0,
  "metadata": {
    "colab": {
      "name": "상당히 쌔그러운 레몬에이드.ipynb",
      "provenance": [],
      "collapsed_sections": [],
      "authorship_tag": "ABX9TyPRx7sPZ7esnIj7TSrHJdgG",
      "include_colab_link": true
    },
    "kernelspec": {
      "name": "python3",
      "display_name": "Python 3"
    }
  },
  "cells": [
    {
      "cell_type": "markdown",
      "metadata": {
        "id": "view-in-github",
        "colab_type": "text"
      },
      "source": [
        "<a href=\"https://colab.research.google.com/github/myungsworld/Machine-learning/blob/master/%EC%83%81%EB%8B%B9%ED%9E%88_%EC%8C%94%EA%B7%B8%EB%9F%AC%EC%9A%B4_%EB%A0%88%EB%AA%AC%EC%97%90%EC%9D%B4%EB%93%9C.ipynb\" target=\"_parent\"><img src=\"https://colab.research.google.com/assets/colab-badge.svg\" alt=\"Open In Colab\"/></a>"
      ]
    },
    {
      "cell_type": "code",
      "metadata": {
        "id": "9qP9hreHztwJ",
        "colab_type": "code",
        "colab": {}
      },
      "source": [
        "#라이브러리 사용\n",
        "import tensorflow as tf\n",
        "import pandas as pd"
      ],
      "execution_count": 1,
      "outputs": []
    },
    {
      "cell_type": "code",
      "metadata": {
        "id": "2efv52l41Frh",
        "colab_type": "code",
        "colab": {
          "base_uri": "https://localhost:8080/",
          "height": 204
        },
        "outputId": "b367a8c4-1061-4163-90ff-cb773a586c76"
      },
      "source": [
        "#데이터 준비\n",
        "파일경로 = 'https://raw.githubusercontent.com/blackdew/tensorflow1/master/csv/lemonade.csv'\n",
        "데이터 = pd.read_csv(파일경로)\n",
        "데이터.head()"
      ],
      "execution_count": 6,
      "outputs": [
        {
          "output_type": "execute_result",
          "data": {
            "text/html": [
              "<div>\n",
              "<style scoped>\n",
              "    .dataframe tbody tr th:only-of-type {\n",
              "        vertical-align: middle;\n",
              "    }\n",
              "\n",
              "    .dataframe tbody tr th {\n",
              "        vertical-align: top;\n",
              "    }\n",
              "\n",
              "    .dataframe thead th {\n",
              "        text-align: right;\n",
              "    }\n",
              "</style>\n",
              "<table border=\"1\" class=\"dataframe\">\n",
              "  <thead>\n",
              "    <tr style=\"text-align: right;\">\n",
              "      <th></th>\n",
              "      <th>온도</th>\n",
              "      <th>판매량</th>\n",
              "    </tr>\n",
              "  </thead>\n",
              "  <tbody>\n",
              "    <tr>\n",
              "      <th>0</th>\n",
              "      <td>20</td>\n",
              "      <td>40</td>\n",
              "    </tr>\n",
              "    <tr>\n",
              "      <th>1</th>\n",
              "      <td>21</td>\n",
              "      <td>42</td>\n",
              "    </tr>\n",
              "    <tr>\n",
              "      <th>2</th>\n",
              "      <td>22</td>\n",
              "      <td>44</td>\n",
              "    </tr>\n",
              "    <tr>\n",
              "      <th>3</th>\n",
              "      <td>23</td>\n",
              "      <td>46</td>\n",
              "    </tr>\n",
              "    <tr>\n",
              "      <th>4</th>\n",
              "      <td>24</td>\n",
              "      <td>48</td>\n",
              "    </tr>\n",
              "  </tbody>\n",
              "</table>\n",
              "</div>"
            ],
            "text/plain": [
              "   온도  판매량\n",
              "0  20   40\n",
              "1  21   42\n",
              "2  22   44\n",
              "3  23   46\n",
              "4  24   48"
            ]
          },
          "metadata": {
            "tags": []
          },
          "execution_count": 6
        }
      ]
    },
    {
      "cell_type": "code",
      "metadata": {
        "id": "WHLI8QuoXrR8",
        "colab_type": "code",
        "colab": {
          "base_uri": "https://localhost:8080/",
          "height": 34
        },
        "outputId": "cbe8b399-2aec-4fdf-a94a-da37c94d9c72"
      },
      "source": [
        "1 # 종속변수, 독립변수\n",
        "독립 = 데이터[['온도']]\n",
        "종속 = 데이터[['판매량']]\n",
        "print(독립.shape, 종속.shape)"
      ],
      "execution_count": 8,
      "outputs": [
        {
          "output_type": "stream",
          "text": [
            "(6, 1) (6, 1)\n"
          ],
          "name": "stdout"
        }
      ]
    },
    {
      "cell_type": "code",
      "metadata": {
        "id": "6vYrJe_WZQhi",
        "colab_type": "code",
        "colab": {}
      },
      "source": [
        "# 모델 만들기\n",
        "X = tf.keras.layers.Input(shape=[1])  \n",
        "Y = tf.keras.layers.Dense(1)(X)\n",
        "model = tf.keras.models.Model(X,Y)\n",
        "model.compile(loss='mse')"
      ],
      "execution_count": 9,
      "outputs": []
    },
    {
      "cell_type": "code",
      "metadata": {
        "id": "hNtn79kFf-r9",
        "colab_type": "code",
        "colab": {}
      },
      "source": [
        ""
      ],
      "execution_count": null,
      "outputs": []
    },
    {
      "cell_type": "code",
      "metadata": {
        "id": "fql-mEizf_J0",
        "colab_type": "code",
        "colab": {}
      },
      "source": [
        ""
      ],
      "execution_count": null,
      "outputs": []
    },
    {
      "cell_type": "code",
      "metadata": {
        "id": "7600k2fKaltJ",
        "colab_type": "code",
        "colab": {
          "base_uri": "https://localhost:8080/",
          "height": 374
        },
        "outputId": "60661771-e382-4cb2-b01c-28272fd07288"
      },
      "source": [
        "# 모델 학습\n",
        "model.fit(독립,종속, epochs=10)"
      ],
      "execution_count": 12,
      "outputs": [
        {
          "output_type": "stream",
          "text": [
            "Epoch 1/10\n",
            "1/1 [==============================] - 0s 2ms/step - loss: 1.6656e-04\n",
            "Epoch 2/10\n",
            "1/1 [==============================] - 0s 4ms/step - loss: 1.6659e-04\n",
            "Epoch 3/10\n",
            "1/1 [==============================] - 0s 2ms/step - loss: 1.6652e-04\n",
            "Epoch 4/10\n",
            "1/1 [==============================] - 0s 2ms/step - loss: 1.6654e-04\n",
            "Epoch 5/10\n",
            "1/1 [==============================] - 0s 1ms/step - loss: 1.6653e-04\n",
            "Epoch 6/10\n",
            "1/1 [==============================] - 0s 2ms/step - loss: 1.6647e-04\n",
            "Epoch 7/10\n",
            "1/1 [==============================] - 0s 2ms/step - loss: 1.6647e-04\n",
            "Epoch 8/10\n",
            "1/1 [==============================] - 0s 2ms/step - loss: 1.6639e-04\n",
            "Epoch 9/10\n",
            "1/1 [==============================] - 0s 2ms/step - loss: 1.6635e-04\n",
            "Epoch 10/10\n",
            "1/1 [==============================] - 0s 911us/step - loss: 1.6633e-04\n"
          ],
          "name": "stdout"
        },
        {
          "output_type": "execute_result",
          "data": {
            "text/plain": [
              "<tensorflow.python.keras.callbacks.History at 0x7f9fa26665c0>"
            ]
          },
          "metadata": {
            "tags": []
          },
          "execution_count": 12
        }
      ]
    },
    {
      "cell_type": "code",
      "metadata": {
        "id": "b4soTU3DatTp",
        "colab_type": "code",
        "colab": {
          "base_uri": "https://localhost:8080/",
          "height": 119
        },
        "outputId": "93b54ec9-f890-4b37-f921-8ebfee9b989d"
      },
      "source": [
        "# 모델 이용\n",
        "model.predict(독립)"
      ],
      "execution_count": 13,
      "outputs": [
        {
          "output_type": "execute_result",
          "data": {
            "text/plain": [
              "array([[40.01854 ],\n",
              "       [42.015976],\n",
              "       [44.01341 ],\n",
              "       [46.010845],\n",
              "       [48.00828 ],\n",
              "       [50.00572 ]], dtype=float32)"
            ]
          },
          "metadata": {
            "tags": []
          },
          "execution_count": 13
        }
      ]
    },
    {
      "cell_type": "code",
      "metadata": {
        "id": "Dhq4Sir5bQMi",
        "colab_type": "code",
        "colab": {
          "base_uri": "https://localhost:8080/",
          "height": 34
        },
        "outputId": "7759baf2-bae3-4c8a-d26b-66289ef4b65c"
      },
      "source": [
        "model.predict([[15]])"
      ],
      "execution_count": 15,
      "outputs": [
        {
          "output_type": "execute_result",
          "data": {
            "text/plain": [
              "array([[30.03136]], dtype=float32)"
            ]
          },
          "metadata": {
            "tags": []
          },
          "execution_count": 15
        }
      ]
    }
  ]
}